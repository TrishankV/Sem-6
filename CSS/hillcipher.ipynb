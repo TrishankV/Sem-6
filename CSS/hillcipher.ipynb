{
 "cells": [
  {
   "cell_type": "markdown",
   "metadata": {},
   "source": [
    "# Hill Cipher"
   ]
  },
  {
   "cell_type": "code",
   "execution_count": 2,
   "metadata": {},
   "outputs": [],
   "source": [
    "import numpy as np"
   ]
  },
  {
   "cell_type": "code",
   "execution_count": 118,
   "metadata": {},
   "outputs": [],
   "source": [
    "def digit_checker_and_list_converter(x):\n",
    "    s = []\n",
    "    for i in x:\n",
    "        if i.isdigit():\n",
    "            print(i)\n",
    "            pass\n",
    "        else :\n",
    "            s.append(alphabet_to_digits(i))\n",
    "    return s"
   ]
  },
  {
   "cell_type": "code",
   "execution_count": 64,
   "metadata": {},
   "outputs": [],
   "source": [
    "def create_2d_matrix_from_list(list, cols):\n",
    "    rows = -(-len(list) // cols) \n",
    "    total_elements_needed = rows * cols\n",
    "    filled_elements = min(len(list), total_elements_needed)\n",
    "    matrix = np.zeros((rows, cols), dtype=int) \n",
    "    for i in range(filled_elements):\n",
    "        matrix[i // cols, i % cols] = list[i]\n",
    "    for i in range(filled_elements, total_elements_needed):\n",
    "        matrix[i // cols, i % cols] = np.random.randint(25) \n",
    "    return matrix"
   ]
  },
  {
   "cell_type": "code",
   "execution_count": null,
   "metadata": {},
   "outputs": [],
   "source": [
    "def alphabet_to_digits(char):\n",
    "    if 'A' <= char <= 'Z':\n",
    "        return ord(char) - ord('A') \n",
    "    elif 'a' <= char <= 'z':\n",
    "        return ord(char) - ord('a') \n",
    "    else:\n",
    "        return None  "
   ]
  },
  {
   "cell_type": "code",
   "execution_count": null,
   "metadata": {},
   "outputs": [],
   "source": [
    "def number_to_alphabet(num):\n",
    "    return chr(num + 65)"
   ]
  },
  {
   "cell_type": "code",
   "execution_count": 135,
   "metadata": {},
   "outputs": [],
   "source": [
    "def Hill_Cipher(Key , PlainText):\n",
    "    print(f'Orignal Text = {PlainText}')\n",
    "    Pt_numeric_list = digit_checker_and_list_converter(PlainText)\n",
    "    matrix = create_2d_matrix_from_list(Pt_numeric_list , 3).transpose()\n",
    "    kee = create_2d_matrix_from_list(Key , 3).transpose()\n",
    "    Mul = np.matmul(kee,matrix)\n",
    "    Ciphered_mat = Mul % 26 \n",
    "    cipher = np.vectorize(number_to_alphabet)(Ciphered_mat)\n",
    "    string_result = ''.join([''.join(row) for row in cipher])\n",
    "    print(\"Cipher Text:\", string_result.lower())"
   ]
  },
  {
   "cell_type": "code",
   "execution_count": 136,
   "metadata": {},
   "outputs": [
    {
     "name": "stdout",
     "output_type": "stream",
     "text": [
      "Orignal Text = paymoremoney\n",
      "Cipher Text: lhetndwrslmw\n"
     ]
    }
   ],
   "source": [
    "Hill_Cipher([17 , 21 , 2 , 17 , 18 , 2 ,5 ,21 , 19] , \"paymoremoney\")"
   ]
  }
 ],
 "metadata": {
  "kernelspec": {
   "display_name": "Python 3.10.8 64-bit",
   "language": "python",
   "name": "python3"
  },
  "language_info": {
   "codemirror_mode": {
    "name": "ipython",
    "version": 3
   },
   "file_extension": ".py",
   "mimetype": "text/x-python",
   "name": "python",
   "nbconvert_exporter": "python",
   "pygments_lexer": "ipython3",
   "version": "3.10.8"
  },
  "orig_nbformat": 4,
  "vscode": {
   "interpreter": {
    "hash": "aee8b7b246df8f9039afb4144a1f6fd8d2ca17a180786b69acc140d282b71a49"
   }
  }
 },
 "nbformat": 4,
 "nbformat_minor": 2
}

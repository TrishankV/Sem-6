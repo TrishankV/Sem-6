{
 "cells": [
  {
   "cell_type": "code",
   "execution_count": 1,
   "metadata": {},
   "outputs": [],
   "source": [
    "def single_layer_perceptron(x1 , x2 , y , w1 , w2 , learning_rate , threshold , counter , max_iterations):\n",
    "    l = len(x1)\n",
    "    y_il = []\n",
    "    if counter < max_iterations :\n",
    "        for i in range(l):\n",
    "            y_in = (w1*x1[i]) + (w2*x2[i])\n",
    "            y_il.append(1 if y_in >= threshold else 0)\n",
    "\n",
    "        \n",
    "        if y_il == y :\n",
    "            print(\"The weights are correct\")\n",
    "        else :\n",
    "            for i in range(l):\n",
    "\n",
    "                if y_il[i] == y[i] :\n",
    "                    print(f'{i+1} th iteration is correct')\n",
    "                    continue\n",
    "                else:\n",
    "                    print(f'{i+1} th iteration is wrong')\n",
    "                    w1 += x1[i]*(y[i]-y_il[i])*learning_rate\n",
    "                    w2 += x2[i]*(y[i]-y_il[i])*learning_rate\n",
    "                    single_layer_perceptron(x1,x2,y,w1,w2,learning_rate,threshold , counter + 1 , max_iterations)\n",
    "    else : \n",
    "        return"
   ]
  },
  {
   "cell_type": "code",
   "execution_count": 3,
   "metadata": {},
   "outputs": [
    {
     "name": "stdout",
     "output_type": "stream",
     "text": [
      "[0]\n",
      "[0, 1]\n",
      "[0, 1, 1]\n",
      "[0, 1, 1, 1]\n",
      "1 th iteration is correct\n",
      "2 th iteration is wrong\n",
      "[0]\n",
      "[0, 0]\n",
      "[0, 0, 1]\n",
      "[0, 0, 1, 1]\n",
      "1 th iteration is correct\n",
      "2 th iteration is correct\n",
      "3 th iteration is wrong\n",
      "[0]\n",
      "[0, 0]\n",
      "[0, 0, 0]\n",
      "[0, 0, 0, 1]\n",
      "The weights are correct\n",
      "Final weights: 0.4 0.4\n"
     ]
    }
   ],
   "source": [
    "def single_layer_perceptron(x1, x2, y, w1, w2, learning_rate, threshold, counter, max_iterations):\n",
    "    l = len(x1)\n",
    "    y_il = []\n",
    "    d = []\n",
    "\n",
    "    if counter < max_iterations:\n",
    "        for i in range(l):\n",
    "            y_in = (w1 * x1[i]) + (w2 * x2[i])\n",
    "            y_il.append(1 if y_in >= threshold else 0)\n",
    "            print(y_il)\n",
    "\n",
    "        if y_il == y:\n",
    "            print(\"The weights are correct\")\n",
    "            return w1, w2\n",
    "        else:\n",
    "            for i in range(l):\n",
    "                if y_il[i] == y[i]:\n",
    "                    print(f'{i+1} th iteration is correct')\n",
    "                    continue\n",
    "                else:\n",
    "                    print(f'{i+1} th iteration is wrong')\n",
    "                    w1 += x1[i] * (y[i] - y_il[i]) * learning_rate\n",
    "                    w2 += x2[i] * (y[i] - y_il[i]) * learning_rate\n",
    "                    return single_layer_perceptron(x1, x2, y, w1, w2, learning_rate, threshold, counter + 1, max_iterations)\n",
    "    else:\n",
    "        print(\"Max iterations reached\")\n",
    "    \n",
    "    return w1, w2\n",
    "\n",
    "# AND gate truth table\n",
    "x1 = [0, 0, 1, 1]\n",
    "x2 = [0, 1, 0, 1]\n",
    "y = [0, 0, 0, 1]  # Output for AND gate\n",
    "\n",
    "# Initial weights, learning rate, and threshold\n",
    "w1_initial = 0.5\n",
    "w2_initial = 0.5\n",
    "learning_rate = 0.1\n",
    "threshold = 0.5\n",
    "\n",
    "# Maximum number of iterations\n",
    "max_iterations = 10\n",
    "\n",
    "# Training the perceptron\n",
    "final_w1, final_w2 = single_layer_perceptron(x1, x2, y, w1_initial, w2_initial, learning_rate, threshold, 0, max_iterations)\n",
    "print(\"Final weights:\", final_w1, final_w2)\n"
   ]
  },
  {
   "cell_type": "code",
   "execution_count": null,
   "metadata": {},
   "outputs": [],
   "source": []
  }
 ],
 "metadata": {
  "kernelspec": {
   "display_name": "Python 3.10.8 64-bit",
   "language": "python",
   "name": "python3"
  },
  "language_info": {
   "codemirror_mode": {
    "name": "ipython",
    "version": 3
   },
   "file_extension": ".py",
   "mimetype": "text/x-python",
   "name": "python",
   "nbconvert_exporter": "python",
   "pygments_lexer": "ipython3",
   "version": "3.10.8"
  },
  "orig_nbformat": 4,
  "vscode": {
   "interpreter": {
    "hash": "aee8b7b246df8f9039afb4144a1f6fd8d2ca17a180786b69acc140d282b71a49"
   }
  }
 },
 "nbformat": 4,
 "nbformat_minor": 2
}
